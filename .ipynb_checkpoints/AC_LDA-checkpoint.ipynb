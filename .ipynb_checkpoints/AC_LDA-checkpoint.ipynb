{
 "cells": [
  {
   "cell_type": "markdown",
   "metadata": {},
   "source": [
    "# LDA: LINEAR DISCRIMINANT ANALYSIS\n",
    "\n",
    "**File:** LDA.ipynb\n",
    "\n",
    "**Course:** Data Science Foundations: Data Mining in Python\n"
   ]
  },
  {
   "cell_type": "markdown",
   "metadata": {},
   "source": [
    "# IMPORT LIBRARIES"
   ]
  },
  {
   "cell_type": "code",
   "execution_count": 1,
   "metadata": {},
   "outputs": [],
   "source": [
    "import pandas as pd              # For dataframes\n",
    "import matplotlib.pyplot as plt  # For plotting data\n",
    "import seaborn as sns            # For plotting data\n",
    "from sklearn.discriminant_analysis import LinearDiscriminantAnalysis  # For LDA"
   ]
  },
  {
   "cell_type": "markdown",
   "metadata": {},
   "source": [
    "# LOAD AND PREPARE DATA\n",
    "\n",
    "Load the training data `trn` and testing data `tst` from the CSV files in the data directory.\n",
    "Separate the data matrix from the class variable."
   ]
  },
  {
   "cell_type": "code",
   "execution_count": 2,
   "metadata": {},
   "outputs": [],
   "source": [
    "# Imports the training data\n",
    "trn = pd.read_csv('data/optdigits_trn.csv')\n",
    "\n",
    "# Separates the attributes P0-P63 into X_trn\n",
    "X_trn = trn.filter(regex='\\d')\n",
    "\n",
    "# Separates the class variable into y_trn\n",
    "y_trn = trn.y\n",
    "\n",
    "# Imports the testing data\n",
    "tst = pd.read_csv('data/optdigits_tst.csv')\n",
    "\n",
    "# Separates the attributes P0-P63 into X_tst\n",
    "X_tst = tst.filter(regex='\\d')\n",
    "\n",
    "# Separates the class variable into y_tst\n",
    "y_tst = tst.y"
   ]
  },
  {
   "cell_type": "code",
   "execution_count": 3,
   "metadata": {},
   "outputs": [
    {
     "data": {
      "text/html": [
       "<div>\n",
       "<style scoped>\n",
       "    .dataframe tbody tr th:only-of-type {\n",
       "        vertical-align: middle;\n",
       "    }\n",
       "\n",
       "    .dataframe tbody tr th {\n",
       "        vertical-align: top;\n",
       "    }\n",
       "\n",
       "    .dataframe thead th {\n",
       "        text-align: right;\n",
       "    }\n",
       "</style>\n",
       "<table border=\"1\" class=\"dataframe\">\n",
       "  <thead>\n",
       "    <tr style=\"text-align: right;\">\n",
       "      <th></th>\n",
       "      <th>P0</th>\n",
       "      <th>P1</th>\n",
       "      <th>P2</th>\n",
       "      <th>P3</th>\n",
       "      <th>P4</th>\n",
       "      <th>P5</th>\n",
       "      <th>P6</th>\n",
       "      <th>P7</th>\n",
       "      <th>P8</th>\n",
       "      <th>P9</th>\n",
       "      <th>...</th>\n",
       "      <th>P55</th>\n",
       "      <th>P56</th>\n",
       "      <th>P57</th>\n",
       "      <th>P58</th>\n",
       "      <th>P59</th>\n",
       "      <th>P60</th>\n",
       "      <th>P61</th>\n",
       "      <th>P62</th>\n",
       "      <th>P63</th>\n",
       "      <th>y</th>\n",
       "    </tr>\n",
       "  </thead>\n",
       "  <tbody>\n",
       "    <tr>\n",
       "      <th>0</th>\n",
       "      <td>0</td>\n",
       "      <td>0</td>\n",
       "      <td>0</td>\n",
       "      <td>16</td>\n",
       "      <td>6</td>\n",
       "      <td>0</td>\n",
       "      <td>0</td>\n",
       "      <td>0</td>\n",
       "      <td>0</td>\n",
       "      <td>0</td>\n",
       "      <td>...</td>\n",
       "      <td>0</td>\n",
       "      <td>0</td>\n",
       "      <td>0</td>\n",
       "      <td>0</td>\n",
       "      <td>10</td>\n",
       "      <td>13</td>\n",
       "      <td>0</td>\n",
       "      <td>0</td>\n",
       "      <td>0</td>\n",
       "      <td>1</td>\n",
       "    </tr>\n",
       "    <tr>\n",
       "      <th>1</th>\n",
       "      <td>0</td>\n",
       "      <td>0</td>\n",
       "      <td>4</td>\n",
       "      <td>16</td>\n",
       "      <td>14</td>\n",
       "      <td>0</td>\n",
       "      <td>0</td>\n",
       "      <td>0</td>\n",
       "      <td>0</td>\n",
       "      <td>0</td>\n",
       "      <td>...</td>\n",
       "      <td>0</td>\n",
       "      <td>0</td>\n",
       "      <td>0</td>\n",
       "      <td>6</td>\n",
       "      <td>16</td>\n",
       "      <td>16</td>\n",
       "      <td>16</td>\n",
       "      <td>4</td>\n",
       "      <td>0</td>\n",
       "      <td>1</td>\n",
       "    </tr>\n",
       "    <tr>\n",
       "      <th>2</th>\n",
       "      <td>0</td>\n",
       "      <td>0</td>\n",
       "      <td>12</td>\n",
       "      <td>10</td>\n",
       "      <td>0</td>\n",
       "      <td>0</td>\n",
       "      <td>0</td>\n",
       "      <td>0</td>\n",
       "      <td>0</td>\n",
       "      <td>3</td>\n",
       "      <td>...</td>\n",
       "      <td>3</td>\n",
       "      <td>0</td>\n",
       "      <td>0</td>\n",
       "      <td>9</td>\n",
       "      <td>16</td>\n",
       "      <td>16</td>\n",
       "      <td>16</td>\n",
       "      <td>16</td>\n",
       "      <td>9</td>\n",
       "      <td>1</td>\n",
       "    </tr>\n",
       "    <tr>\n",
       "      <th>3</th>\n",
       "      <td>0</td>\n",
       "      <td>0</td>\n",
       "      <td>0</td>\n",
       "      <td>6</td>\n",
       "      <td>16</td>\n",
       "      <td>3</td>\n",
       "      <td>0</td>\n",
       "      <td>0</td>\n",
       "      <td>0</td>\n",
       "      <td>0</td>\n",
       "      <td>...</td>\n",
       "      <td>0</td>\n",
       "      <td>0</td>\n",
       "      <td>0</td>\n",
       "      <td>1</td>\n",
       "      <td>8</td>\n",
       "      <td>12</td>\n",
       "      <td>15</td>\n",
       "      <td>13</td>\n",
       "      <td>1</td>\n",
       "      <td>6</td>\n",
       "    </tr>\n",
       "    <tr>\n",
       "      <th>4</th>\n",
       "      <td>0</td>\n",
       "      <td>0</td>\n",
       "      <td>11</td>\n",
       "      <td>12</td>\n",
       "      <td>7</td>\n",
       "      <td>0</td>\n",
       "      <td>0</td>\n",
       "      <td>0</td>\n",
       "      <td>0</td>\n",
       "      <td>0</td>\n",
       "      <td>...</td>\n",
       "      <td>0</td>\n",
       "      <td>0</td>\n",
       "      <td>0</td>\n",
       "      <td>8</td>\n",
       "      <td>10</td>\n",
       "      <td>8</td>\n",
       "      <td>0</td>\n",
       "      <td>0</td>\n",
       "      <td>0</td>\n",
       "      <td>1</td>\n",
       "    </tr>\n",
       "  </tbody>\n",
       "</table>\n",
       "<p>5 rows × 65 columns</p>\n",
       "</div>"
      ],
      "text/plain": [
       "   P0  P1  P2  P3  P4  P5  P6  P7  P8  P9  ...  P55  P56  P57  P58  P59  P60  \\\n",
       "0   0   0   0  16   6   0   0   0   0   0  ...    0    0    0    0   10   13   \n",
       "1   0   0   4  16  14   0   0   0   0   0  ...    0    0    0    6   16   16   \n",
       "2   0   0  12  10   0   0   0   0   0   3  ...    3    0    0    9   16   16   \n",
       "3   0   0   0   6  16   3   0   0   0   0  ...    0    0    0    1    8   12   \n",
       "4   0   0  11  12   7   0   0   0   0   0  ...    0    0    0    8   10    8   \n",
       "\n",
       "   P61  P62  P63  y  \n",
       "0    0    0    0  1  \n",
       "1   16    4    0  1  \n",
       "2   16   16    9  1  \n",
       "3   15   13    1  6  \n",
       "4    0    0    0  1  \n",
       "\n",
       "[5 rows x 65 columns]"
      ]
     },
     "execution_count": 3,
     "metadata": {},
     "output_type": "execute_result"
    }
   ],
   "source": [
    "# Shows the first few rows of the training data\n",
    "trn.head()"
   ]
  },
  {
   "cell_type": "markdown",
   "metadata": {},
   "source": [
    "# LINEAR DISCRIMINANT ANALYSIS: TRAIN MODEL\n",
    "\n",
    "In the training phase, we'll do the following:\n",
    "\n",
    "1. Set up an LDA object as lda using `LinearDiscriminantAnalysis()`.\n",
    "1. Fit the model to the training data `trn`.\n",
    "1. Transform the data using `lda`.\n",
    "1. Plot the transformed data.\n",
    "1. Find the mean accuracy on the training data."
   ]
  },
  {
   "cell_type": "code",
   "execution_count": 4,
   "metadata": {},
   "outputs": [
    {
     "data": {
      "text/plain": [
       "LinearDiscriminantAnalysis()"
      ]
     },
     "execution_count": 4,
     "metadata": {},
     "output_type": "execute_result"
    }
   ],
   "source": [
    "# Sets up the LinearDiscriminantAnalysis object\n",
    "lda = LinearDiscriminantAnalysis()\n",
    "\n",
    "# Fits the training data\n",
    "lda.fit(X_trn, y_trn)"
   ]
  },
  {
   "cell_type": "code",
   "execution_count": 5,
   "metadata": {},
   "outputs": [
    {
     "data": {
      "text/plain": [
       "<matplotlib.axes._subplots.AxesSubplot at 0x1c04cc4b7f0>"
      ]
     },
     "execution_count": 5,
     "metadata": {},
     "output_type": "execute_result"
    },
    {
     "data": {
      "image/png": "[encoded data removed]",
      "text/plain": [
       "<Figure size 432x288 with 1 Axes>"
      ]
     },
     "metadata": {
      "needs_background": "light"
     },
     "output_type": "display_data"
    }
   ],
   "source": [
    "# Transforms training data\n",
    "trn_tf = lda.transform(X_trn)\n",
    "\n",
    "# Plots the projected data set on the first two discriminant functions and colors by class\n",
    "sns.scatterplot(\n",
    "    x=trn_tf[:, 0], \n",
    "    y=trn_tf[:, 1],\n",
    "    style=y_trn,\n",
    "    hue=y_trn,\n",
    "    palette=['red', 'green', 'blue'])"
   ]
  },
  {
   "cell_type": "markdown",
   "metadata": {},
   "source": [
    "Get the accuracy of the model on the training data using `score()` and display as percentage with two decimal places."
   ]
  },
  {
   "cell_type": "code",
   "execution_count": 6,
   "metadata": {},
   "outputs": [
    {
     "name": "stdout",
     "output_type": "stream",
     "text": [
      "Accuracy on training data = 99.63%\n"
     ]
    }
   ],
   "source": [
    "print('Accuracy on training data = ' \n",
    "    + str(\"{:.2%}\".format(lda.score(X_trn, y_trn))))"
   ]
  },
  {
   "cell_type": "markdown",
   "metadata": {},
   "source": [
    "# TEST MODEL\n",
    "\n",
    "In this phase, we'll take the LDA model developed above and do the following:\n",
    "\n",
    "1. Transform the test set using the trained model.\n",
    "1. Plots the transformed data.\n",
    "2. Find the prediction accuracy on the testing data.\n"
   ]
  },
  {
   "cell_type": "code",
   "execution_count": 7,
   "metadata": {},
   "outputs": [
    {
     "data": {
      "text/plain": [
       "<matplotlib.axes._subplots.AxesSubplot at 0x1c04e5b8cc0>"
      ]
     },
     "execution_count": 7,
     "metadata": {},
     "output_type": "execute_result"
    },
    {
     "data": {
      "image/png": "[encoded data removed]",
      "text/plain": [
       "<Figure size 432x288 with 1 Axes>"
      ]
     },
     "metadata": {
      "needs_background": "light"
     },
     "output_type": "display_data"
    }
   ],
   "source": [
    "# Uses the trained model to transform the test data\n",
    "tst_tf = lda.transform(X_tst)\n",
    "\n",
    "# Plots the projected data set on the first two discriminant functions and colors by class\n",
    "sns.scatterplot(\n",
    "    x=tst_tf[:, 0], \n",
    "    y=tst_tf[:, 1],\n",
    "    style=y_tst,\n",
    "    hue=y_tst,\n",
    "    palette=['red', 'green', 'blue'])"
   ]
  },
  {
   "cell_type": "markdown",
   "metadata": {},
   "source": [
    "Get the accuracy of the model on the testing data using `score()` and display as percentage with two decimal places."
   ]
  },
  {
   "cell_type": "code",
   "execution_count": 8,
   "metadata": {},
   "outputs": [
    {
     "name": "stdout",
     "output_type": "stream",
     "text": [
      "Accuracy on testing data = 99.71%\n"
     ]
    }
   ],
   "source": [
    "print('Accuracy on testing data = ' \n",
    "    + str(\"{:.2%}\".format(lda.score(X_tst, y_tst))))"
   ]
  },
  {
   "cell_type": "markdown",
   "metadata": {},
   "source": [
    "# CLEAN UP\n",
    "\n",
    "- If desired, clear the results with Cell > All Output > Clear. \n",
    "- Save your work by selecting File > Save and Checkpoint.\n",
    "- Shut down the Python kernel and close the file by selecting File > Close and Halt."
   ]
  }
 ],
 "metadata": {
  "kernelspec": {
   "display_name": "Python 3",
   "language": "python",
   "name": "python3"
  },
  "language_info": {
   "codemirror_mode": {
    "name": "ipython",
    "version": 3
   },
   "file_extension": ".py",
   "mimetype": "text/x-python",
   "name": "python",
   "nbconvert_exporter": "python",
   "pygments_lexer": "ipython3",
   "version": "3.6.10"
  }
 },
 "nbformat": 4,
 "nbformat_minor": 4
}
